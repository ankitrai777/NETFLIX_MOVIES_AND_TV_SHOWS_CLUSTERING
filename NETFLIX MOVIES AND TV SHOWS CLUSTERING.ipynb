{
 "cells": [
  {
   "cell_type": "markdown",
   "metadata": {
    "id": "LGcl5Bv9ed6u"
   },
   "source": [
    "# **Problem Statement**"
   ]
  },
  {
   "cell_type": "markdown",
   "metadata": {
    "id": "8M5kyFaVjzXk"
   },
   "source": [
    "This dataset consists of tv shows and movies available on Netflix as of 2019. The dataset is collected from Flixable which is a third-party Netflix search engine.\n",
    "\n",
    "In 2018, they released an interesting report which shows that the number of TV shows on Netflix has nearly tripled since 2010. The streaming service’s number of movies has decreased by more than 2,000 titles since 2010, while its number of TV shows has nearly tripled. It will be interesting to explore what all other insights can be obtained from the same dataset.\n",
    "\n",
    "Integrating this dataset with other external datasets such as IMDB ratings, rotten tomatoes can also provide many interesting findings."
   ]
  },
  {
   "cell_type": "markdown",
   "metadata": {
    "id": "tLx5cJO8hzb1"
   },
   "source": [
    "## <b>In this  project, you are required to do </b>\n",
    "1. Exploratory Data Analysis \n",
    "\n",
    "2. Understanding what type content is available in different countries\n",
    "\n",
    "3. Is Netflix has increasingly focusing on TV rather than movies in recent years.\n",
    "4. Clustering similar content by matching text-based features\n",
    "\n"
   ]
  },
  {
   "cell_type": "markdown",
   "metadata": {
    "id": "AzGDqdC4fZ-b"
   },
   "source": [
    "# **Attribute Information**"
   ]
  },
  {
   "cell_type": "markdown",
   "metadata": {
    "id": "jhfLYargscGV"
   },
   "source": [
    "1. show_id : Unique ID for every Movie / Tv Show\n",
    "\n",
    "2. type : Identifier - A Movie or TV Show\n",
    "\n",
    "3. title : Title of the Movie / Tv Show\n",
    "\n",
    "4. director : Director of the Movie\n",
    "\n",
    "5. cast : Actors involved in the movie / show\n",
    "\n",
    "6. country : Country where the movie / show was produced\n",
    "\n",
    "7. date_added : Date it was added on Netflix\n",
    "\n",
    "8. release_year : Actual Releaseyear of the movie / show\n",
    "\n",
    "9. rating : TV Rating of the movie / show\n",
    "\n",
    "10. duration : Total Duration - in minutes or number of seasons\n",
    "\n",
    "11. listed_in : Genere\n",
    "\n",
    "12. description: The Summary description"
   ]
  },
  {
   "cell_type": "markdown",
   "metadata": {},
   "source": [
    "![image.png](data:image/png;base64,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)"
   ]
  },
  {
   "cell_type": "markdown",
   "metadata": {},
   "source": [
    "***TA-DUMMM... !!*** This iconic intro sound has got so much popularity in the recent years due to the unique set of shows and series. NETFLIX bring to its platform.Netflix is essentially a storehouse of content, including movies, documentaries, and television series, both pre-existing and its own. For a flat monthly fee, subscribers can consume any program at any time on whatever device they prefer.\n",
    "\n",
    "Netflix has become dominant company in the on-demand media industry, with 167 million paying subscribers around the world.By creating compelling original programming, analyzing its user data to serve subscribers better, and above all by letting people consume content in the ways they prefer, Netflix disrupted the television industry and forced cable companies to change the way they do business.\n",
    "\n",
    "We have been provided a dataset collected from Flixable which is a third-party Netflix search engine. In 2018, they released an interesting report which shows that the number of TV shows on Netflix has nearly tripled since 2010. The streaming service’s number of movies has decreased by more than 2,000 titles since 2010, while its number of TV shows has nearly tripled. It will be interesting to explore what all other insights can be obtained from the same data set.\n",
    "\n",
    "Further, following will be our objectives :\n",
    "* To perform Exploratory Data Analysis\n",
    "* Understanding what type content is available in different countries\n",
    "* Is Netflix has increasingly focusing on TV rather than movies in recent years.\n",
    "* Clustering similar content by matching text-based features\n",
    "\n",
    "To achieve above objective, we have divided the task into following steps :\n",
    "    \n",
    "    1.  Understand The Data    \n",
    "    2.  Data Cleaning- Getting Data Ready to Analyse\n",
    "    3.  Feature Engineering\n",
    "    4.  Discovering Information - Analysis\n",
    "    5.  Model Fitting & Model Evaluation\n",
    "    6.  Hyperparameter Tuning\n",
    "    7.  Conclusion\n",
    "    \n",
    "Let's start with **importing important libraries** which will be useful in the excercise."
   ]
  },
  {
   "cell_type": "code",
   "execution_count": 59,
   "metadata": {},
   "outputs": [],
   "source": [
    "# Importing important Libraries\n",
    "\n",
    "import pandas as pd                     # To bring data analysis tools and libraries\n",
    "import numpy as np                      # To perform numerical/mathematical operation on array\n",
    "import matplotlib.pyplot as plt         # For plotting data\n",
    "import seaborn as sns                   # For statistical graphics\n",
    "\n",
    "import warnings\n",
    "warnings.filterwarnings(\"ignore\")"
   ]
  },
  {
   "cell_type": "code",
   "execution_count": 60,
   "metadata": {},
   "outputs": [],
   "source": [
    "# Importing the dataset\n",
    "\n",
    "df = pd.read_csv(r'C:\\Users\\rankiz\\Desktop\\Alma Better\\Capstone Project\\ML-Unsupervised Learning\\NETFLIX MOVIES AND TV SHOWS CLUSTERING.csv')"
   ]
  },
  {
   "cell_type": "markdown",
   "metadata": {},
   "source": [
    "We have imported our dataset and it is time to understand the data. Launching first step of our task.....\n",
    "\n",
    "# 1. Understanding The Data\n",
    "\n",
    "Understanding new data is like understanding a new person. You first interact , observe their personality and then assess them. We are going to follow same with our dataset.\n",
    " \n",
    "   * The First Interaction : We will explore top and bottom few rows of our data \n",
    "   * Observe the Features : Then we will check all the variables and their definition\n",
    "   * Assessing : After that we will see size data , information of variables and statistical description of numerical variables\n",
    "   \n",
    "It's time for the action : **The First Interaction !**"
   ]
  },
  {
   "cell_type": "code",
   "execution_count": 61,
   "metadata": {},
   "outputs": [
    {
     "data": {
      "text/html": [
       "<div>\n",
       "<style scoped>\n",
       "    .dataframe tbody tr th:only-of-type {\n",
       "        vertical-align: middle;\n",
       "    }\n",
       "\n",
       "    .dataframe tbody tr th {\n",
       "        vertical-align: top;\n",
       "    }\n",
       "\n",
       "    .dataframe thead th {\n",
       "        text-align: right;\n",
       "    }\n",
       "</style>\n",
       "<table border=\"1\" class=\"dataframe\">\n",
       "  <thead>\n",
       "    <tr style=\"text-align: right;\">\n",
       "      <th></th>\n",
       "      <th>show_id</th>\n",
       "      <th>type</th>\n",
       "      <th>title</th>\n",
       "      <th>director</th>\n",
       "      <th>cast</th>\n",
       "      <th>country</th>\n",
       "      <th>date_added</th>\n",
       "      <th>release_year</th>\n",
       "      <th>rating</th>\n",
       "      <th>duration</th>\n",
       "      <th>listed_in</th>\n",
       "      <th>description</th>\n",
       "    </tr>\n",
       "  </thead>\n",
       "  <tbody>\n",
       "    <tr>\n",
       "      <th>0</th>\n",
       "      <td>s1</td>\n",
       "      <td>TV Show</td>\n",
       "      <td>3%</td>\n",
       "      <td>NaN</td>\n",
       "      <td>João Miguel, Bianca Comparato, Michel Gomes, R...</td>\n",
       "      <td>Brazil</td>\n",
       "      <td>August 14, 2020</td>\n",
       "      <td>2020</td>\n",
       "      <td>TV-MA</td>\n",
       "      <td>4 Seasons</td>\n",
       "      <td>International TV Shows, TV Dramas, TV Sci-Fi &amp;...</td>\n",
       "      <td>In a future where the elite inhabit an island ...</td>\n",
       "    </tr>\n",
       "    <tr>\n",
       "      <th>1</th>\n",
       "      <td>s2</td>\n",
       "      <td>Movie</td>\n",
       "      <td>7:19</td>\n",
       "      <td>Jorge Michel Grau</td>\n",
       "      <td>Demián Bichir, Héctor Bonilla, Oscar Serrano, ...</td>\n",
       "      <td>Mexico</td>\n",
       "      <td>December 23, 2016</td>\n",
       "      <td>2016</td>\n",
       "      <td>TV-MA</td>\n",
       "      <td>93 min</td>\n",
       "      <td>Dramas, International Movies</td>\n",
       "      <td>After a devastating earthquake hits Mexico Cit...</td>\n",
       "    </tr>\n",
       "    <tr>\n",
       "      <th>2</th>\n",
       "      <td>s3</td>\n",
       "      <td>Movie</td>\n",
       "      <td>23:59</td>\n",
       "      <td>Gilbert Chan</td>\n",
       "      <td>Tedd Chan, Stella Chung, Henley Hii, Lawrence ...</td>\n",
       "      <td>Singapore</td>\n",
       "      <td>December 20, 2018</td>\n",
       "      <td>2011</td>\n",
       "      <td>R</td>\n",
       "      <td>78 min</td>\n",
       "      <td>Horror Movies, International Movies</td>\n",
       "      <td>When an army recruit is found dead, his fellow...</td>\n",
       "    </tr>\n",
       "    <tr>\n",
       "      <th>3</th>\n",
       "      <td>s4</td>\n",
       "      <td>Movie</td>\n",
       "      <td>9</td>\n",
       "      <td>Shane Acker</td>\n",
       "      <td>Elijah Wood, John C. Reilly, Jennifer Connelly...</td>\n",
       "      <td>United States</td>\n",
       "      <td>November 16, 2017</td>\n",
       "      <td>2009</td>\n",
       "      <td>PG-13</td>\n",
       "      <td>80 min</td>\n",
       "      <td>Action &amp; Adventure, Independent Movies, Sci-Fi...</td>\n",
       "      <td>In a postapocalyptic world, rag-doll robots hi...</td>\n",
       "    </tr>\n",
       "    <tr>\n",
       "      <th>4</th>\n",
       "      <td>s5</td>\n",
       "      <td>Movie</td>\n",
       "      <td>21</td>\n",
       "      <td>Robert Luketic</td>\n",
       "      <td>Jim Sturgess, Kevin Spacey, Kate Bosworth, Aar...</td>\n",
       "      <td>United States</td>\n",
       "      <td>January 1, 2020</td>\n",
       "      <td>2008</td>\n",
       "      <td>PG-13</td>\n",
       "      <td>123 min</td>\n",
       "      <td>Dramas</td>\n",
       "      <td>A brilliant group of students become card-coun...</td>\n",
       "    </tr>\n",
       "  </tbody>\n",
       "</table>\n",
       "</div>"
      ],
      "text/plain": [
       "  show_id     type  title           director  \\\n",
       "0      s1  TV Show     3%                NaN   \n",
       "1      s2    Movie   7:19  Jorge Michel Grau   \n",
       "2      s3    Movie  23:59       Gilbert Chan   \n",
       "3      s4    Movie      9        Shane Acker   \n",
       "4      s5    Movie     21     Robert Luketic   \n",
       "\n",
       "                                                cast        country  \\\n",
       "0  João Miguel, Bianca Comparato, Michel Gomes, R...         Brazil   \n",
       "1  Demián Bichir, Héctor Bonilla, Oscar Serrano, ...         Mexico   \n",
       "2  Tedd Chan, Stella Chung, Henley Hii, Lawrence ...      Singapore   \n",
       "3  Elijah Wood, John C. Reilly, Jennifer Connelly...  United States   \n",
       "4  Jim Sturgess, Kevin Spacey, Kate Bosworth, Aar...  United States   \n",
       "\n",
       "          date_added  release_year rating   duration  \\\n",
       "0    August 14, 2020          2020  TV-MA  4 Seasons   \n",
       "1  December 23, 2016          2016  TV-MA     93 min   \n",
       "2  December 20, 2018          2011      R     78 min   \n",
       "3  November 16, 2017          2009  PG-13     80 min   \n",
       "4    January 1, 2020          2008  PG-13    123 min   \n",
       "\n",
       "                                           listed_in  \\\n",
       "0  International TV Shows, TV Dramas, TV Sci-Fi &...   \n",
       "1                       Dramas, International Movies   \n",
       "2                Horror Movies, International Movies   \n",
       "3  Action & Adventure, Independent Movies, Sci-Fi...   \n",
       "4                                             Dramas   \n",
       "\n",
       "                                         description  \n",
       "0  In a future where the elite inhabit an island ...  \n",
       "1  After a devastating earthquake hits Mexico Cit...  \n",
       "2  When an army recruit is found dead, his fellow...  \n",
       "3  In a postapocalyptic world, rag-doll robots hi...  \n",
       "4  A brilliant group of students become card-coun...  "
      ]
     },
     "execution_count": 61,
     "metadata": {},
     "output_type": "execute_result"
    }
   ],
   "source": [
    "# Display top 5 rows \n",
    "\n",
    "df.head()"
   ]
  },
  {
   "cell_type": "code",
   "execution_count": 62,
   "metadata": {},
   "outputs": [
    {
     "data": {
      "text/html": [
       "<div>\n",
       "<style scoped>\n",
       "    .dataframe tbody tr th:only-of-type {\n",
       "        vertical-align: middle;\n",
       "    }\n",
       "\n",
       "    .dataframe tbody tr th {\n",
       "        vertical-align: top;\n",
       "    }\n",
       "\n",
       "    .dataframe thead th {\n",
       "        text-align: right;\n",
       "    }\n",
       "</style>\n",
       "<table border=\"1\" class=\"dataframe\">\n",
       "  <thead>\n",
       "    <tr style=\"text-align: right;\">\n",
       "      <th></th>\n",
       "      <th>show_id</th>\n",
       "      <th>type</th>\n",
       "      <th>title</th>\n",
       "      <th>director</th>\n",
       "      <th>cast</th>\n",
       "      <th>country</th>\n",
       "      <th>date_added</th>\n",
       "      <th>release_year</th>\n",
       "      <th>rating</th>\n",
       "      <th>duration</th>\n",
       "      <th>listed_in</th>\n",
       "      <th>description</th>\n",
       "    </tr>\n",
       "  </thead>\n",
       "  <tbody>\n",
       "    <tr>\n",
       "      <th>7782</th>\n",
       "      <td>s7783</td>\n",
       "      <td>Movie</td>\n",
       "      <td>Zozo</td>\n",
       "      <td>Josef Fares</td>\n",
       "      <td>Imad Creidi, Antoinette Turk, Elias Gergi, Car...</td>\n",
       "      <td>Sweden, Czech Republic, United Kingdom, Denmar...</td>\n",
       "      <td>October 19, 2020</td>\n",
       "      <td>2005</td>\n",
       "      <td>TV-MA</td>\n",
       "      <td>99 min</td>\n",
       "      <td>Dramas, International Movies</td>\n",
       "      <td>When Lebanon's Civil War deprives Zozo of his ...</td>\n",
       "    </tr>\n",
       "    <tr>\n",
       "      <th>7783</th>\n",
       "      <td>s7784</td>\n",
       "      <td>Movie</td>\n",
       "      <td>Zubaan</td>\n",
       "      <td>Mozez Singh</td>\n",
       "      <td>Vicky Kaushal, Sarah-Jane Dias, Raaghav Chanan...</td>\n",
       "      <td>India</td>\n",
       "      <td>March 2, 2019</td>\n",
       "      <td>2015</td>\n",
       "      <td>TV-14</td>\n",
       "      <td>111 min</td>\n",
       "      <td>Dramas, International Movies, Music &amp; Musicals</td>\n",
       "      <td>A scrappy but poor boy worms his way into a ty...</td>\n",
       "    </tr>\n",
       "    <tr>\n",
       "      <th>7784</th>\n",
       "      <td>s7785</td>\n",
       "      <td>Movie</td>\n",
       "      <td>Zulu Man in Japan</td>\n",
       "      <td>NaN</td>\n",
       "      <td>Nasty C</td>\n",
       "      <td>NaN</td>\n",
       "      <td>September 25, 2020</td>\n",
       "      <td>2019</td>\n",
       "      <td>TV-MA</td>\n",
       "      <td>44 min</td>\n",
       "      <td>Documentaries, International Movies, Music &amp; M...</td>\n",
       "      <td>In this documentary, South African rapper Nast...</td>\n",
       "    </tr>\n",
       "    <tr>\n",
       "      <th>7785</th>\n",
       "      <td>s7786</td>\n",
       "      <td>TV Show</td>\n",
       "      <td>Zumbo's Just Desserts</td>\n",
       "      <td>NaN</td>\n",
       "      <td>Adriano Zumbo, Rachel Khoo</td>\n",
       "      <td>Australia</td>\n",
       "      <td>October 31, 2020</td>\n",
       "      <td>2019</td>\n",
       "      <td>TV-PG</td>\n",
       "      <td>1 Season</td>\n",
       "      <td>International TV Shows, Reality TV</td>\n",
       "      <td>Dessert wizard Adriano Zumbo looks for the nex...</td>\n",
       "    </tr>\n",
       "    <tr>\n",
       "      <th>7786</th>\n",
       "      <td>s7787</td>\n",
       "      <td>Movie</td>\n",
       "      <td>ZZ TOP: THAT LITTLE OL' BAND FROM TEXAS</td>\n",
       "      <td>Sam Dunn</td>\n",
       "      <td>NaN</td>\n",
       "      <td>United Kingdom, Canada, United States</td>\n",
       "      <td>March 1, 2020</td>\n",
       "      <td>2019</td>\n",
       "      <td>TV-MA</td>\n",
       "      <td>90 min</td>\n",
       "      <td>Documentaries, Music &amp; Musicals</td>\n",
       "      <td>This documentary delves into the mystique behi...</td>\n",
       "    </tr>\n",
       "  </tbody>\n",
       "</table>\n",
       "</div>"
      ],
      "text/plain": [
       "     show_id     type                                    title     director  \\\n",
       "7782   s7783    Movie                                     Zozo  Josef Fares   \n",
       "7783   s7784    Movie                                   Zubaan  Mozez Singh   \n",
       "7784   s7785    Movie                        Zulu Man in Japan          NaN   \n",
       "7785   s7786  TV Show                    Zumbo's Just Desserts          NaN   \n",
       "7786   s7787    Movie  ZZ TOP: THAT LITTLE OL' BAND FROM TEXAS     Sam Dunn   \n",
       "\n",
       "                                                   cast  \\\n",
       "7782  Imad Creidi, Antoinette Turk, Elias Gergi, Car...   \n",
       "7783  Vicky Kaushal, Sarah-Jane Dias, Raaghav Chanan...   \n",
       "7784                                            Nasty C   \n",
       "7785                         Adriano Zumbo, Rachel Khoo   \n",
       "7786                                                NaN   \n",
       "\n",
       "                                                country          date_added  \\\n",
       "7782  Sweden, Czech Republic, United Kingdom, Denmar...    October 19, 2020   \n",
       "7783                                              India       March 2, 2019   \n",
       "7784                                                NaN  September 25, 2020   \n",
       "7785                                          Australia    October 31, 2020   \n",
       "7786              United Kingdom, Canada, United States       March 1, 2020   \n",
       "\n",
       "      release_year rating  duration  \\\n",
       "7782          2005  TV-MA    99 min   \n",
       "7783          2015  TV-14   111 min   \n",
       "7784          2019  TV-MA    44 min   \n",
       "7785          2019  TV-PG  1 Season   \n",
       "7786          2019  TV-MA    90 min   \n",
       "\n",
       "                                              listed_in  \\\n",
       "7782                       Dramas, International Movies   \n",
       "7783     Dramas, International Movies, Music & Musicals   \n",
       "7784  Documentaries, International Movies, Music & M...   \n",
       "7785                 International TV Shows, Reality TV   \n",
       "7786                    Documentaries, Music & Musicals   \n",
       "\n",
       "                                            description  \n",
       "7782  When Lebanon's Civil War deprives Zozo of his ...  \n",
       "7783  A scrappy but poor boy worms his way into a ty...  \n",
       "7784  In this documentary, South African rapper Nast...  \n",
       "7785  Dessert wizard Adriano Zumbo looks for the nex...  \n",
       "7786  This documentary delves into the mystique behi...  "
      ]
     },
     "execution_count": 62,
     "metadata": {},
     "output_type": "execute_result"
    }
   ],
   "source": [
    "# Display bottom 5 rows \n",
    "\n",
    "df.tail()"
   ]
  },
  {
   "cell_type": "markdown",
   "metadata": {},
   "source": [
    "The data seems interesting from the first look. We understood that most of the variables are having object type values in them. Let us have a close look on our variables.\n",
    "Initiating second step of data exploration : **Observe the Features**"
   ]
  },
  {
   "cell_type": "code",
   "execution_count": 63,
   "metadata": {},
   "outputs": [
    {
     "name": "stdout",
     "output_type": "stream",
     "text": [
      "Our dataset has 7787 rows and 12 columns.\n",
      "Our dataset has following columns -\n",
      " ['show_id', 'type', 'title', 'director', 'cast', 'country', 'date_added', 'release_year', 'rating', 'duration', 'listed_in', 'description']\n"
     ]
    }
   ],
   "source": [
    "# Display shape of data\n",
    "print(f'Our dataset has {df.shape[0]} rows and {df.shape[1]} columns.')\n",
    "\n",
    "#Display column names\n",
    "print(f'Our dataset has following columns -\\n {list(df.columns)}')"
   ]
  },
  {
   "cell_type": "markdown",
   "metadata": {},
   "source": [
    "We have been also provided a document which gives definitions of the above 21 variables. Let us take a look on their **definitions** :\n",
    "* show_id : Unique ID for every Movie / Tv Show\n",
    "\n",
    "* type : Identifier - A Movie or TV Show\n",
    "\n",
    "* title : Title of the Movie / Tv Show\n",
    "\n",
    "* director : Director of the Movie\n",
    "\n",
    "* cast : Actors involved in the movie / show\n",
    "\n",
    "* country : Country where the movie / show was produced\n",
    "\n",
    "* date_added : Date it was added on Netflix\n",
    "\n",
    "* release_year : Actual Releaseyear of the movie / show\n",
    "\n",
    "* rating : TV Rating of the movie / show\n",
    "\n",
    "* duration : Total Duration - in minutes or number of seasons\n",
    "\n",
    "* listed_in : Genere\n",
    "\n",
    "* description: The Summary description\n",
    "\n",
    "Let us move ahead and execute third step of our data exploration : **Assessing the Data**"
   ]
  },
  {
   "cell_type": "code",
   "execution_count": 64,
   "metadata": {},
   "outputs": [
    {
     "name": "stdout",
     "output_type": "stream",
     "text": [
      "<class 'pandas.core.frame.DataFrame'>\n",
      "RangeIndex: 7787 entries, 0 to 7786\n",
      "Data columns (total 12 columns):\n",
      " #   Column        Non-Null Count  Dtype \n",
      "---  ------        --------------  ----- \n",
      " 0   show_id       7787 non-null   object\n",
      " 1   type          7787 non-null   object\n",
      " 2   title         7787 non-null   object\n",
      " 3   director      5398 non-null   object\n",
      " 4   cast          7069 non-null   object\n",
      " 5   country       7280 non-null   object\n",
      " 6   date_added    7777 non-null   object\n",
      " 7   release_year  7787 non-null   int64 \n",
      " 8   rating        7780 non-null   object\n",
      " 9   duration      7787 non-null   object\n",
      " 10  listed_in     7787 non-null   object\n",
      " 11  description   7787 non-null   object\n",
      "dtypes: int64(1), object(11)\n",
      "memory usage: 730.2+ KB\n"
     ]
    }
   ],
   "source": [
    "# Display information of all columns\n",
    "df.info()"
   ]
  },
  {
   "cell_type": "markdown",
   "metadata": {},
   "source": [
    "All but one are having Object type values !! \"release_year\" has integer value.SInce there is only one variable with integer value and that too which indicates \"Year\" , there is no point to look for statistical description of our data. Therefore, let us skip to take a look on **number of unique values** they have."
   ]
  },
  {
   "cell_type": "code",
   "execution_count": 65,
   "metadata": {},
   "outputs": [
    {
     "data": {
      "text/plain": [
       "show_id         7787\n",
       "type               2\n",
       "title           7787\n",
       "director        4049\n",
       "cast            6831\n",
       "country          681\n",
       "date_added      1565\n",
       "release_year      73\n",
       "rating            14\n",
       "duration         216\n",
       "listed_in        492\n",
       "description     7769\n",
       "dtype: int64"
      ]
     },
     "execution_count": 65,
     "metadata": {},
     "output_type": "execute_result"
    }
   ],
   "source": [
    "# Display number of unique values for each column\n",
    "df.nunique()"
   ]
  },
  {
   "cell_type": "markdown",
   "metadata": {},
   "source": [
    "### **What We Understood !**\n",
    "We have explored our dataset which consists of **7787 rows and 12 columns**. On going through unique values we found -\n",
    "* The data is from 681 countries.\n",
    "* The contents on netflix are of two types only - TV Shows and Movies. \n",
    "* Äs expected \"show_id\" and \"title\" are only variables with all unique values. \n",
    "* The contents are of 73 different years, which tells about the mammoth range of content Netflix have."
   ]
  },
  {
   "cell_type": "markdown",
   "metadata": {},
   "source": [
    "#  2. Data Cleaning - Making Data Ready To Analyse\n",
    "Our next task is to clean our data and get it ready for the analysation part. For data cleaning we will look for **duplicate values, Null/Missing values and Outliers** and will try to eliminate them if and when required."
   ]
  },
  {
   "cell_type": "code",
   "execution_count": 66,
   "metadata": {},
   "outputs": [
    {
     "data": {
      "text/plain": [
       "show_id            0\n",
       "type               0\n",
       "title              0\n",
       "director        2389\n",
       "cast             718\n",
       "country          507\n",
       "date_added        10\n",
       "release_year       0\n",
       "rating             7\n",
       "duration           0\n",
       "listed_in          0\n",
       "description        0\n",
       "dtype: int64"
      ]
     },
     "execution_count": 66,
     "metadata": {},
     "output_type": "execute_result"
    }
   ],
   "source": [
    " # Display null values numbers in each column\n",
    "df.isnull().sum()"
   ]
  },
  {
   "cell_type": "markdown",
   "metadata": {},
   "source": [
    "We got 5 columns- \"director\",\"cast\",\"country\",\"date_added\"and \"rating\" , with null values in it. Dropping whole rows with null values would lead to loss of information. Also, since all of these columns have object d-type therefore we cannot simply replace their null values with the mean or median. Better approach would be to replace null values with a clear text indicating \"No Data\".But before that, we have to get rid of null values in \"date_added\" column by dropping them as there are only 10 numbers and it would be convinient for us in future while extracting Month and Year from the column.\n",
    "\n",
    "Let's drop rows having null values of \"date_added\" first."
   ]
  },
  {
   "cell_type": "code",
   "execution_count": 67,
   "metadata": {},
   "outputs": [],
   "source": [
    "# drop null values of \"date_added\" column\n",
    "df=df.dropna(subset=['date_added'])\n",
    "\n",
    "#Replacing null values with \"No data\" in rest four columns\n",
    "df.fillna(\"No data\",inplace=True)"
   ]
  },
  {
   "cell_type": "markdown",
   "metadata": {},
   "source": [
    "We have got rid of null values by replacing them with \"No Data\" text and its time to check for duplicate values.\n"
   ]
  },
  {
   "cell_type": "code",
   "execution_count": 68,
   "metadata": {},
   "outputs": [
    {
     "name": "stdout",
     "output_type": "stream",
     "text": [
      "There are no duplicate rows in our data\n"
     ]
    }
   ],
   "source": [
    "# Checking for duplicates\n",
    "check_dupl = df.duplicated(keep = False).any()\n",
    "if check_dupl == False:\n",
    "    print('There are no duplicate rows in our data')\n",
    "else:\n",
    "    print ('There are duplicate rows in our data')"
   ]
  },
  {
   "cell_type": "markdown",
   "metadata": {},
   "source": [
    " That's great !! Looks like we have got a cleaned data. It's time to do ***feature engineering*** in our data."
   ]
  },
  {
   "cell_type": "markdown",
   "metadata": {},
   "source": [
    "# 3. Feature Engineering\n",
    "\n",
    "From all the variables we have - \"date_added\" and \"release_year\" indicates a date and year respectively. Hence, we can change their values to their appropriate type i.e datetime. Doing this will help us to extract month and year from the \"date_added\" column for the analysis part."
   ]
  },
  {
   "cell_type": "code",
   "execution_count": 69,
   "metadata": {},
   "outputs": [],
   "source": [
    "#Change object variable to datetime\n",
    "df[\"date_added\"]=pd.to_datetime(df[\"date_added\"])\n",
    "#Extract year from the date and create a new variable\n",
    "df[\"year_added\"] = df[\"date_added\"].dt.year\n",
    "# Drop the 'date_added' Variable\n",
    "df.drop('date_added',axis=1,inplace=True)"
   ]
  },
  {
   "cell_type": "markdown",
   "metadata": {},
   "source": [
    "We had seen in the data exploration part that as per the release year of the uploaded contents, the contents were of 73 different years. Now that we have extracted the year part from our \"date_added\" column, let us find the span during which the movies were added in the netflix as per given data "
   ]
  },
  {
   "cell_type": "code",
   "execution_count": 70,
   "metadata": {},
   "outputs": [
    {
     "name": "stdout",
     "output_type": "stream",
     "text": [
      "As per our dataset , Netflix added all its contents in the span of 14 years, from 2009 to 2021.\n"
     ]
    }
   ],
   "source": [
    "# find unique release year values and sort them\n",
    "released_year = df['year_added'].unique()\n",
    "released_year.sort()\n",
    "print(f'As per our dataset , Netflix added all its contents in the span of {len(released_year)} years, from {released_year[1]} to {released_year[-1]}.')"
   ]
  },
  {
   "cell_type": "markdown",
   "metadata": {},
   "source": [
    "# 4. Discovering Information -  EDA\n",
    "Now, we hope our data is ready to analyse. Our job is to find useful insights from the data. For this we will begin with univariate analysis for each variables then we will move to bivariate and multivariate analysis. \n",
    "\n",
    "### Univariate Analysis\n",
    "\n",
    "#### 1. Distribution of Type of Content : TV Shows and Movies"
   ]
  },
  {
   "cell_type": "code",
   "execution_count": 71,
   "metadata": {},
   "outputs": [
    {
     "data": {
      "image/png": "[encoded data removed]",
      "text/plain": [
       "<Figure size 1008x504 with 1 Axes>"
      ]
     },
     "metadata": {},
     "output_type": "display_data"
    }
   ],
   "source": [
    "# Create a piechart\n",
    "plt.figure(figsize=(14, 7))\n",
    "labels=['TV Show', 'Movie']\n",
    "plt.pie(df['type'].value_counts().sort_values(),labels=labels,explode=[0.01,0.01],\n",
    "        autopct='%1.2f%%',colors=sns.color_palette(\"flare\",2), startangle=90)\n",
    "plt.title('Type of Netflix Content')\n",
    "plt.axis('equal')\n",
    "plt.show()\n"
   ]
  },
  {
   "cell_type": "markdown",
   "metadata": {},
   "source": [
    "* Clearly number of Movies on Netflix outnumbered the number of TV Shows. Almost 70% content are movies while rest 30% are TV Shows. Let us try some other visualization tool - countplot for other variables. For the convinience we are creating a function."
   ]
  },
  {
   "cell_type": "code",
   "execution_count": 72,
   "metadata": {},
   "outputs": [],
   "source": [
    "def countplot_v(x,order,x_label,title):\n",
    "  ''' Prints a verticle columns count plot which takes X-axis value, Order, X_label and title of plot'''\n",
    "  # Let's check the total count of each class\n",
    "  plt.figure(figsize=(10,6))\n",
    "  plt.grid(b=False,axis='both')\n",
    "\n",
    "  # Plotting the values in dependent variable\n",
    "  ax=sns.countplot(x=x, data=df,order = order.value_counts().index[:10],\n",
    "              palette=\"flare_r\")\n",
    "\n",
    "  #Anotate the bars with their values\n",
    "  for bar in ax.patches:\n",
    "    ax.annotate(format(bar.get_height()),\n",
    "                     (bar.get_x() + bar.get_width() / 2,\n",
    "                      bar.get_height()), ha='center', va='center',\n",
    "                     size=12,color='#607B8B', \n",
    "                     xytext=(0, 8),\n",
    "                     textcoords='offset points')\n",
    "\n",
    "  # Removing all ticks and label\n",
    "  plt.tick_params(top=False, bottom=False, left=False, right=False, labelleft=False, labelbottom=True)\n",
    "\n",
    "  # remove the frame of the chart\n",
    "  for spine in plt.gca().spines.values():\n",
    "      spine.set_visible(False)\n",
    "\n",
    "  ax.set(xlabel=x_label, ylabel = \"\")\n",
    "  plt.title(title)\n",
    "\n",
    "\n",
    "  plt.show()"
   ]
  },
  {
   "cell_type": "markdown",
   "metadata": {},
   "source": [
    "#### 2. Content by Ratings !"
   ]
  },
  {
   "cell_type": "code",
   "execution_count": 73,
   "metadata": {},
   "outputs": [
    {
     "data": {
      "image/png": "[encoded data removed]",
      "text/plain": [
       "<Figure size 720x432 with 1 Axes>"
      ]
     },
     "metadata": {},
     "output_type": "display_data"
    }
   ],
   "source": [
    "countplot_v(\"rating\",df['rating'],\"Rating\",'Distribution Of Rating')"
   ]
  },
  {
   "cell_type": "markdown",
   "metadata": {},
   "source": [
    "* The shows with a rating of TV-MA are in the clear majority. This is followed by TV-14.These top two ratings have way too much numbers of contents compared to other ratings."
   ]
  },
  {
   "cell_type": "markdown",
   "metadata": {},
   "source": [
    "#### 3. Countries producing the most content"
   ]
  },
  {
   "cell_type": "code",
   "execution_count": 74,
   "metadata": {},
   "outputs": [
    {
     "data": {
      "image/png": "[encoded data removed]",
      "text/plain": [
       "<Figure size 720x432 with 1 Axes>"
      ]
     },
     "metadata": {},
     "output_type": "display_data"
    }
   ],
   "source": [
    "countplot_v(\"country\",df['country'],\"Country\",'Countrywise Content')"
   ]
  },
  {
   "cell_type": "markdown",
   "metadata": {},
   "source": [
    "The United States account for the majority of the content created on Netflix, numbering 2549 titles. India is the second largest with 923 titles."
   ]
  },
  {
   "cell_type": "markdown",
   "metadata": {},
   "source": [
    "#### 5. Number of contents added by Year"
   ]
  },
  {
   "cell_type": "code",
   "execution_count": null,
   "metadata": {},
   "outputs": [],
   "source": []
  },
  {
   "cell_type": "code",
   "execution_count": 76,
   "metadata": {
    "scrolled": true
   },
   "outputs": [
    {
     "data": {
      "image/png": "[encoded data removed]",
      "text/plain": [
       "<Figure size 720x432 with 1 Axes>"
      ]
     },
     "metadata": {},
     "output_type": "display_data"
    }
   ],
   "source": [
    "countplot_v(\"year_added\",df['year_added'],\"Added Year\",'Number of contents added by Year')"
   ]
  },
  {
   "cell_type": "markdown",
   "metadata": {},
   "source": [
    "Clearly we can see the number of contents on the platform is increasing year on year. There is drastic increase in 2016-2017, this is probably Netflix was launched in India this year. And to attract Indian viwers it started adding Indian contents as well."
   ]
  },
  {
   "cell_type": "code",
   "execution_count": 77,
   "metadata": {},
   "outputs": [],
   "source": [
    "# Create a list of years when content was added\n",
    "years = list(range(2008,2020,1))\n",
    "# Seperate Rows having only movies as content\n",
    "movie_rows=df.loc[df[\"type\"] == \"Movie\"]\n",
    "# Seperate Rows having only TV Shows as content\n",
    "tv_rows=df.loc[df[\"type\"]==\"TV Show\"]\n",
    "\n",
    "movies_counts = movie_rows.year_added.value_counts()\n",
    "tv_counts = tv_rows.year_added.value_counts()\n",
    "\n",
    "index_years_mov = movies_counts.index.isin(years)\n",
    "index_years_tv = tv_counts.index.isin(years)\n",
    "\n",
    "#select movies / tv shows between chosen years:\n",
    "movies = movies_counts[index_years_mov]\n",
    "tv_shows = tv_counts[index_years_tv]"
   ]
  },
  {
   "cell_type": "code",
   "execution_count": 78,
   "metadata": {},
   "outputs": [
    {
     "data": {
      "text/plain": [
       "Text(0.5, 1.0, 'Movies/TV Shows Released per Year')"
      ]
     },
     "execution_count": 78,
     "metadata": {},
     "output_type": "execute_result"
    },
    {
     "data": {
      "image/png": "[encoded data removed]",
      "text/plain": [
       "<Figure size 720x432 with 1 Axes>"
      ]
     },
     "metadata": {},
     "output_type": "display_data"
    }
   ],
   "source": [
    "# Create a line plot\n",
    "plt.figure(figsize=(10,6))\n",
    "\n",
    "sns.lineplot(data=movies, color=\"#8B0000\",  label=\"Movies / year\",marker='o')\n",
    "sns.lineplot(data=tv_shows, color=\"#FFC1C1\",  label=\"TV Shows / year\",marker='o')\n",
    "\n",
    "# remove the frame of the chart\n",
    "for spine in plt.gca().spines.values():\n",
    "    spine.set_visible(False)\n",
    "\n",
    "# Draw grid lines with red color and dashed style\n",
    "plt.grid(color='#E8E8E8', linestyle='--', linewidth=0.7)\n",
    "\n",
    "plt.legend(bbox_to_anchor=(1.02, 1), loc='upper left',\n",
    "             borderaxespad=0,frameon=False)\n",
    "\n",
    "\n",
    "plt.xlabel(\"Year Added\")\n",
    "plt.ylabel(\"Numbers\")\n",
    "plt.title('Movies/TV Shows Released per Year')"
   ]
  },
  {
   "cell_type": "markdown",
   "metadata": {},
   "source": [
    "We have performed EDA on our data and drew some useful insights. Our next objective is to make an unsupervised ML model which can do clustering of contents avaialable on Netflix by matching text based features. On carefully looking each variables, we found that the **listed_in** and **description** have texts which indicates about the content's feature .Hence,we have decided to perform clustering based on the texual information of these two variables. \n",
    "\n",
    "## Text Pre-processing\n",
    "\n",
    "Text pre-processing is the process of preparing text data so that machines can use the same to perform tasks like analysis, predictions, etc. There are different steps in text pre-processing like - removing stopwords and punctuations , stemming of words etc. Let us start the preprocessing task.\n",
    "\n",
    "#### a) Removing Punctuations\n",
    "We need to carefully choose the list of punctuation which we are going to discard based on the use case.To remove punctuation let's create a function and apply them on our both variables"
   ]
  },
  {
   "cell_type": "code",
   "execution_count": 79,
   "metadata": {},
   "outputs": [],
   "source": [
    "# import important libraries for text preprocessing\n",
    "from sklearn import preprocessing\n",
    "from sklearn.feature_extraction.text import CountVectorizer, TfidfVectorizer\n",
    "from sklearn.model_selection import train_test_split, KFold\n",
    "from nltk.corpus import stopwords\n",
    "from nltk.stem.snowball import SnowballStemmer"
   ]
  },
  {
   "cell_type": "code",
   "execution_count": 80,
   "metadata": {},
   "outputs": [],
   "source": [
    "def remove_punctuation(text):\n",
    "    '''a function for removing punctuation'''\n",
    "\n",
    "    import string\n",
    "    \n",
    "    # replacing the punctuations with no space, \n",
    "    # which in effect deletes the punctuation marks \n",
    "    translator = str.maketrans('', '', string.punctuation)\n",
    "    # return the text stripped of punctuation marks\n",
    "    return text.translate(translator)"
   ]
  },
  {
   "cell_type": "code",
   "execution_count": 81,
   "metadata": {},
   "outputs": [],
   "source": [
    "# Applying the function to remove punctuations\n",
    "df['description'] = df['description'].apply(remove_punctuation)\n",
    "\n",
    "# Applying the function to remove punctuations\n",
    "df['listed_in'] = df['listed_in'].apply(remove_punctuation)"
   ]
  },
  {
   "cell_type": "markdown",
   "metadata": {},
   "source": [
    "First step is over !  We have eliminated punctuations from the values of our both variables - 'description' and 'listed_in'. It is time to handle stopwords."
   ]
  },
  {
   "cell_type": "markdown",
   "metadata": {},
   "source": [
    "#### b) Remove Stopwords\n",
    "With english, among many popular languages, stop words are common words within sentences that do not add value and thus can be eliminated when cleaning for NLP prior to analysis.We will make good use of the NLTK library by importing the pre-programmed english stop words library."
   ]
  },
  {
   "cell_type": "code",
   "execution_count": 82,
   "metadata": {},
   "outputs": [
    {
     "name": "stderr",
     "output_type": "stream",
     "text": [
      "[nltk_data] Downloading package stopwords to\n",
      "[nltk_data]     C:\\Users\\rankiz\\AppData\\Roaming\\nltk_data...\n",
      "[nltk_data]   Package stopwords is already up-to-date!\n"
     ]
    },
    {
     "data": {
      "text/plain": [
       "True"
      ]
     },
     "execution_count": 82,
     "metadata": {},
     "output_type": "execute_result"
    }
   ],
   "source": [
    "#importing natural language tool kit\n",
    "import nltk\n",
    "from nltk.corpus import stopwords\n",
    "nltk.download(\"stopwords\")"
   ]
  },
  {
   "cell_type": "code",
   "execution_count": 83,
   "metadata": {},
   "outputs": [],
   "source": [
    "# extracting the stopwords from nltk library\n",
    "sw = stopwords.words('english')\n",
    "\n",
    "# Function to remove stopwords \n",
    "def stopwords(text):\n",
    "    '''a function for removing the stopword'''\n",
    "    # removing the stop words and lowercasing the selected words\n",
    "    text = [word.lower() for word in text.split() if word.lower() not in sw]\n",
    "    # joining the list of words with space separator\n",
    "    return \" \".join(text)"
   ]
  },
  {
   "cell_type": "code",
   "execution_count": 84,
   "metadata": {},
   "outputs": [],
   "source": [
    "# Applying the stopword function\n",
    "df['description'] = df['description'].apply(stopwords)\n",
    "\n",
    "# Applying the stopword function\n",
    "df['listed_in'] = df['listed_in'].apply(stopwords)"
   ]
  },
  {
   "cell_type": "markdown",
   "metadata": {},
   "source": [
    "#### c. Let's do stemming of words\n",
    "Stemming is the process of producing morphological variants of a root/base word. Stemming programs are commonly referred to as stemming algorithms or stemmers. A stemming algorithm reduces the words “chocolates”, “chocolatey”, “choco” to the root word, “chocolate” and “retrieval”, “retrieved”, “retrieves” reduce to the stem “retrieve”.\n",
    "\n",
    "Here we are using the \"SnowballStemmer\" algorithm. It is a better version of the Porter Stemmer."
   ]
  },
  {
   "cell_type": "code",
   "execution_count": 85,
   "metadata": {},
   "outputs": [],
   "source": [
    "# create an object of stemming function\n",
    "from nltk.stem.snowball import SnowballStemmer\n",
    "stemmer = SnowballStemmer(\"english\")\n",
    "\n",
    "def stemming(text):    \n",
    "    '''a function which stems each word in the given text'''\n",
    "    text = [stemmer.stem(word) for word in text.split()]\n",
    "    return \" \".join(text)  "
   ]
  },
  {
   "cell_type": "code",
   "execution_count": 86,
   "metadata": {},
   "outputs": [],
   "source": [
    "#stemming for description\n",
    "df['description'] = df['description'].apply(stemming)"
   ]
  },
  {
   "cell_type": "markdown",
   "metadata": {},
   "source": [
    "#### d. Create New Variables for Text Length\n",
    "The text length is very likely to influence any kind of similarity score. In general:\n",
    "\n",
    "* String containing very few words will have their highest similarity scores with other short strings with which they share one or two words in common. However if the words they contain are not common at all, they will have a lot of zero similarity scores (possibly only zeros).\n",
    "* Long strings (i.e. with many words) usually have low similarity scores, simply because they are unlikely to have a high proportion of their words in common. However compared to short strings they rarely have no word in common so they are much less likely to have lots of zero similarity scores.\n",
    "As a result strings of similar length may tend to cluster together, depending on the data."
   ]
  },
  {
   "cell_type": "code",
   "execution_count": 87,
   "metadata": {},
   "outputs": [],
   "source": [
    "# Create a function to display text length\n",
    "def length(text):    \n",
    "    '''a function which returns the length of text'''\n",
    "    return len(text)"
   ]
  },
  {
   "cell_type": "code",
   "execution_count": 88,
   "metadata": {},
   "outputs": [],
   "source": [
    "# Create two variables for description and listed-in texts length respectively\n",
    "df['desc_length'] = df['description'].apply(length)\n",
    "df['listed_length'] = df['listed_in'].apply(length)"
   ]
  },
  {
   "cell_type": "code",
   "execution_count": 89,
   "metadata": {},
   "outputs": [
    {
     "data": {
      "text/html": [
       "<div>\n",
       "<style scoped>\n",
       "    .dataframe tbody tr th:only-of-type {\n",
       "        vertical-align: middle;\n",
       "    }\n",
       "\n",
       "    .dataframe tbody tr th {\n",
       "        vertical-align: top;\n",
       "    }\n",
       "\n",
       "    .dataframe thead th {\n",
       "        text-align: right;\n",
       "    }\n",
       "</style>\n",
       "<table border=\"1\" class=\"dataframe\">\n",
       "  <thead>\n",
       "    <tr style=\"text-align: right;\">\n",
       "      <th></th>\n",
       "      <th>desc_length</th>\n",
       "      <th>listed_length</th>\n",
       "    </tr>\n",
       "  </thead>\n",
       "  <tbody>\n",
       "    <tr>\n",
       "      <th>0</th>\n",
       "      <td>82</td>\n",
       "      <td>49</td>\n",
       "    </tr>\n",
       "    <tr>\n",
       "      <th>1</th>\n",
       "      <td>88</td>\n",
       "      <td>27</td>\n",
       "    </tr>\n",
       "  </tbody>\n",
       "</table>\n",
       "</div>"
      ],
      "text/plain": [
       "   desc_length  listed_length\n",
       "0           82             49\n",
       "1           88             27"
      ]
     },
     "execution_count": 89,
     "metadata": {},
     "output_type": "execute_result"
    }
   ],
   "source": [
    "# Create a dataframe with variables indicating text lengths only\n",
    "cluster_df=df.filter(['desc_length','listed_length'],axis=1)\n",
    "cluster_df.head(2)"
   ]
  },
  {
   "cell_type": "markdown",
   "metadata": {},
   "source": [
    "We have seen time to time that generatlization of values is an important step before applying any model. Hence, wo opt for standard scaler method for scaling values.\n",
    "#### Rescaling Data"
   ]
  },
  {
   "cell_type": "code",
   "execution_count": 118,
   "metadata": {},
   "outputs": [],
   "source": [
    "# Standardizing value to generalise\n",
    "X_features_rec_mon=df[['desc_length','listed_length']]\n",
    "scaler_rec_mon=preprocessing.StandardScaler()\n",
    "X_rec_mon=scaler_rec_mon.fit_transform(X_features_rec_mon)\n",
    "X=X_rec_mon"
   ]
  },
  {
   "cell_type": "markdown",
   "metadata": {},
   "source": [
    "Our text is preprocessed and ready for algorithms to be applied. Our first unsupervised algorith is - K-means Clustering."
   ]
  },
  {
   "cell_type": "code",
   "execution_count": 113,
   "metadata": {},
   "outputs": [
    {
     "name": "stdout",
     "output_type": "stream",
     "text": [
      "\n",
      "For n_clusters = 2, silhouette score is 0.3551415129079424\n",
      "\n",
      "For n_clusters = 3, silhouette score is 0.35589698124108055\n",
      "\n",
      "For n_clusters = 4, silhouette score is 0.3266968907071311\n",
      "\n",
      "For n_clusters = 5, silhouette score is 0.33558430881056384\n",
      "\n",
      "For n_clusters = 6, silhouette score is 0.3557380959007992\n",
      "\n",
      "For n_clusters = 7, silhouette score is 0.3548817152999796\n",
      "\n",
      "For n_clusters = 8, silhouette score is 0.3522803075712804\n"
     ]
    }
   ],
   "source": []
  },
  {
   "cell_type": "code",
   "execution_count": 105,
   "metadata": {},
   "outputs": [
    {
     "data": {
      "image/png": "[encoded data removed]",
      "text/plain": [
       "<Figure size 936x576 with 1 Axes>"
      ]
     },
     "metadata": {},
     "output_type": "display_data"
    }
   ],
   "source": []
  },
  {
   "cell_type": "code",
   "execution_count": 119,
   "metadata": {},
   "outputs": [
    {
     "name": "stdout",
     "output_type": "stream",
     "text": [
      "\n",
      "For n_clusters = 2, silhouette score is 0.3175793656201251\n",
      "\n",
      "For n_clusters = 3, silhouette score is 0.31432867165262873\n",
      "\n",
      "For n_clusters = 4, silhouette score is 0.3213839057345443\n",
      "\n",
      "For n_clusters = 5, silhouette score is 0.3118378248731679\n",
      "\n",
      "For n_clusters = 6, silhouette score is 0.3162429215031077\n",
      "\n",
      "For n_clusters = 7, silhouette score is 0.3128813274627948\n",
      "\n",
      "For n_clusters = 8, silhouette score is 0.30908943644319614\n"
     ]
    }
   ],
   "source": []
  }
 ],
 "metadata": {
  "colab": {
   "collapsed_sections": [],
   "name": "NETFLIX MOVIES AND TV SHOWS CLUSTERING.ipynb",
   "provenance": []
  },
  "kernelspec": {
   "display_name": "Python 3",
   "language": "python",
   "name": "python3"
  },
  "language_info": {
   "codemirror_mode": {
    "name": "ipython",
    "version": 3
   },
   "file_extension": ".py",
   "mimetype": "text/x-python",
   "name": "python",
   "nbconvert_exporter": "python",
   "pygments_lexer": "ipython3",
   "version": "3.8.8"
  }
 },
 "nbformat": 4,
 "nbformat_minor": 1
}
